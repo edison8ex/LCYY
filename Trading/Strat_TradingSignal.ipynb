{
 "cells": [
  {
   "cell_type": "code",
   "execution_count": 46,
   "metadata": {},
   "outputs": [],
   "source": [
    "import pandas as pd\n",
    "import numpy as np\n",
    "import talib\n",
    "import random\n",
    "import datetime\n",
    "import matplotlib.pyplot as plt\n",
    "import statsmodels.api as sm\n",
    "import xgboost as xgb\n",
    "from sklearn import preprocessing\n",
    "from sklearn.linear_model import LogisticRegression\n",
    "from statsmodels.stats.outliers_influence import variance_inflation_factor\n",
    "from sklearn.metrics import classification_report, confusion_matrix"
   ]
  },
  {
   "cell_type": "code",
   "execution_count": 2,
   "metadata": {},
   "outputs": [],
   "source": [
    "def formatBacktestdata(_ccy:str):\n",
    "    # Formatting\n",
    "    _tarCol = ['Open time', 'Open', 'High', 'Low', 'Volume', 'Close']\n",
    "    _Dir = \"C:\\\\Users\\\\LCYY\\\\Desktop\\\\CrytoTrade\\\\Data\\\\Binance\\\\\"\n",
    "    _filename = '{}USDT.csv'.format(_ccy)\n",
    "    _histData = pd.read_csv(_Dir + _filename, dtype={'Open time':str})[_tarCol].dropna()\n",
    "    _histData['datetime'] = pd.to_datetime(_histData['Open time'], format='%Y-%m-%d %H:%M:%S')\n",
    "    _histData = _histData.sort_values('datetime').reset_index(drop=True)\n",
    "    _histData['date'] = _histData.datetime.dt.date\n",
    "    _histData['time'] = _histData.datetime.dt.time\n",
    "    _histData['symbol'] = _ccy + '/' + 'USDT'\n",
    "    _histData = _histData[['datetime', 'date', 'time', 'symbol'] + _tarCol]\n",
    "    _histData = _histData.drop(columns=['Open time'], axis=1)\n",
    "    return _histData"
   ]
  },
  {
   "cell_type": "code",
   "execution_count": 3,
   "metadata": {},
   "outputs": [],
   "source": [
    "def getRandomPeriod(_date:list, _numDays:int):\n",
    "    _minDate = datetime.date(2020, 12, 31)\n",
    "    _maxDate = datetime.date(2021, 10, 31)\n",
    "    _startPeriod = random.choice(_date)\n",
    "    _endPeriod = _startPeriod + datetime.timedelta(days=_numDays)\n",
    "    if (_startPeriod >= _minDate) and (_endPeriod <= _maxDate) :\n",
    "        return _startPeriod, _endPeriod\n",
    "    else:\n",
    "        return getRandomPeriod(_date, _numDays)"
   ]
  },
  {
   "cell_type": "code",
   "execution_count": 4,
   "metadata": {},
   "outputs": [],
   "source": [
    "def calRSI(_close:pd.Series, _window_length:int,_mode:str):\n",
    "    delta = _close.diff()[1:]\n",
    "    up, down = delta.clip(lower=0), delta.clip(upper=0).abs()\n",
    "    if _mode == 'EWMA':\n",
    "        # Calculate the RSI based on EWMA\n",
    "        roll_up = up.ewm(span=_window_length).mean()\n",
    "        roll_down = down.ewm(span=_window_length).mean()\n",
    "    elif _mode == 'SMA':\n",
    "        # Calculate the RSI based on SMA\n",
    "        roll_up = up.rolling(_window_length).mean()\n",
    "        roll_down = down.rolling(_window_length).mean()\n",
    "    elif _mode == 'RMA':\n",
    "        # Calculate the RSI based on RMA/SMMA/MMA\n",
    "        alpha = 1 / _window_length\n",
    "        roll_up = up.ewm(alpha=alpha).mean()\n",
    "        roll_down = down.ewm(alpha=alpha).mean()\n",
    "    rs = roll_up / roll_down\n",
    "    rsi = 100.0 - (100.0 / (1.0 + rs))\n",
    "    return pd.concat([pd.Series([0]), rsi])"
   ]
  },
  {
   "cell_type": "code",
   "execution_count": 5,
   "metadata": {},
   "outputs": [],
   "source": [
    "def calSTOSC(_sto:pd.Series, _window_length:int):\n",
    "    # Stochastic\n",
    "    _SOSC = []\n",
    "    for i in range(len(_sto)-_window_length):\n",
    "        _lookbackPeriod = _sto[i:i+_window_length]\n",
    "        _localmin, _localmax = _lookbackPeriod.min(), _lookbackPeriod.max()\n",
    "        if _localmax - _localmin == 0:\n",
    "            _SOSC.append(0)\n",
    "        else:\n",
    "            _SOSC.append((_sto[i] - _localmin)/(_localmax - _localmin)*100)\n",
    "    _SOSC = pd.Series([0]*_window_length + _SOSC)\n",
    "    return _SOSC"
   ]
  },
  {
   "cell_type": "code",
   "execution_count": 6,
   "metadata": {},
   "outputs": [],
   "source": [
    "def calFastSlowK(_sto:pd.Series, _high:pd.Series, _low:pd.Series, _window_length:int, _smoother:int):\n",
    "    # Stochastic Oscillator\n",
    "    _localHigh = _high.rolling(_window_length).max()\n",
    "    _localLow = _low.rolling(_window_length).min()\n",
    "    _FastK = (_sto - _localLow) * 100 / (_localHigh - _localLow)\n",
    "    _SlowK = _FastK.rolling(_smoother).mean()\n",
    "    return _FastK, _SlowK"
   ]
  },
  {
   "cell_type": "code",
   "execution_count": 7,
   "metadata": {},
   "outputs": [],
   "source": [
    "def calEMA(_close:pd.Series, _window_length:int):\n",
    "    return _close.ewm(span=_window_length).mean()"
   ]
  },
  {
   "cell_type": "code",
   "execution_count": 8,
   "metadata": {},
   "outputs": [],
   "source": [
    "def calMACD(_close:pd.Series, _windowK:int, _windowD:int, _windowS:int):\n",
    "    _kLine = _close.ewm(span=_windowK).mean()\n",
    "    _dLine = _close.ewm(span=_windowD).mean()\n",
    "    _macd = _kLine-_dLine\n",
    "    _macd_s = _macd.ewm(span=_windowS).mean()\n",
    "    _histo = _macd - _macd_s\n",
    "    return _macd, _macd_s, _histo"
   ]
  },
  {
   "cell_type": "code",
   "execution_count": 9,
   "metadata": {},
   "outputs": [],
   "source": [
    "def calSuperTrend(_close:pd.Series, _high:pd.Series, _low:pd.Series, _window_length:int, _multiplier:int):\n",
    "    # Close cross above SuperTrend = Buy\n",
    "    # ATR\n",
    "    TRHL = pd.DataFrame(_high - _low)\n",
    "    TRHC = pd.DataFrame(abs(_high - _close.shift(1)))\n",
    "    TRLC = pd.DataFrame(abs(_low - _close.shift(1)))\n",
    "    TR = pd.concat([TRHL, TRHC, TRLC], axis = 1, join = 'inner').max(axis = 1)\n",
    "    ATR = TR.ewm(_window_length).mean()\n",
    "    # H/L AVG AND BASIC UPPER & LOWER BAND\n",
    "    HLA = (_high + _low) / 2\n",
    "    BUB = (HLA + _multiplier * ATR).dropna()\n",
    "    BLB = (HLA - _multiplier * ATR).dropna()\n",
    "    # FINAL BANDS\n",
    "    final_bands = pd.DataFrame(columns = ['upper', 'lower'])\n",
    "    final_bands.iloc[:,0] = [x for x in BUB - BUB]\n",
    "    final_bands.iloc[:,1] = final_bands.iloc[:,0]\n",
    "    for i in range(len(final_bands)):\n",
    "        if i == 0:\n",
    "            final_bands.iloc[i,0] = 0\n",
    "            final_bands.iloc[i, 1] = 0\n",
    "        else:\n",
    "            # UPPER\n",
    "            if (BUB[i] < final_bands.iloc[i-1,0]) | (_close[i-1] > final_bands.iloc[i-1,0]):\n",
    "                final_bands.iloc[i,0] = BUB[i]\n",
    "            else:\n",
    "                final_bands.iloc[i,0] = final_bands.iloc[i-1,0]\n",
    "            # LOWER\n",
    "            if (BLB[i] > final_bands.iloc[i-1,1]) | (_close[i-1] < final_bands.iloc[i-1,1]):\n",
    "                final_bands.iloc[i,1] = BLB[i]\n",
    "            else:\n",
    "                final_bands.iloc[i,1] = final_bands.iloc[i-1,1]\n",
    "    # SUPERTREND\n",
    "    supertrend = pd.DataFrame(columns = [f'supertrend_{_window_length}'])\n",
    "    supertrend.iloc[:,0] = [x for x in final_bands['upper'] - final_bands['upper']]\n",
    "    for i in range(len(supertrend)):\n",
    "        if i == 0:\n",
    "            supertrend.iloc[i, 0] = 0\n",
    "        elif supertrend.iloc[i-1, 0] == final_bands.iloc[i-1, 0] and _close[i] < final_bands.iloc[i, 0]:\n",
    "            supertrend.iloc[i, 0] = final_bands.iloc[i, 0]\n",
    "        elif supertrend.iloc[i-1, 0] == final_bands.iloc[i-1, 0] and _close[i] > final_bands.iloc[i, 0]:\n",
    "            supertrend.iloc[i, 0] = final_bands.iloc[i, 1]\n",
    "        elif supertrend.iloc[i-1, 0] == final_bands.iloc[i-1, 1] and _close[i] > final_bands.iloc[i, 1]:\n",
    "            supertrend.iloc[i, 0] = final_bands.iloc[i, 1]\n",
    "        elif supertrend.iloc[i-1, 0] == final_bands.iloc[i-1, 1] and _close[i] < final_bands.iloc[i, 1]:\n",
    "            supertrend.iloc[i, 0] = final_bands.iloc[i, 0]\n",
    "    supertrend = supertrend.set_index(BUB.index)\n",
    "    supertrend = supertrend.dropna()[1:]\n",
    "    return pd.Series(supertrend.iloc[:, 0])"
   ]
  },
  {
   "cell_type": "code",
   "execution_count": 10,
   "metadata": {},
   "outputs": [],
   "source": [
    "def Strat_Volume(_N_volume:float, _threshold:float):\n",
    "    return 1 if _N_volume >= _threshold else 0\n",
    "\n",
    "def Strat_FastSlowK(_fastK:float, _slowK:float, _thes:int):\n",
    "    if ((_fastK < _thes) and (_slowK < _thes) and (_fastK > _slowK)):\n",
    "        return 1\n",
    "    elif ((_fastK > (100-_thes)) and (_slowK < (100-_thes)) and (_fastK < _slowK)):\n",
    "        return -1\n",
    "    else:\n",
    "        return 0\n",
    "    \n",
    "def Strat_KDSwing(_fastK:float, _slowK:float, _thes:int):\n",
    "    if ((_fastK < _thes) and (_slowK < _thes) and (abs(_fastK/_slowK-1) < 0.02)):\n",
    "        return 1\n",
    "    elif ((_fastK > (100-_thes)) and (_slowK < (100-_thes)) and (abs(_fastK/_slowK-1) < 0.02)):\n",
    "        return -1\n",
    "    else:\n",
    "        return 0\n",
    "    \n",
    "def Strat_MACD(_macd:float, _macdS:float, _NmacdH:float):\n",
    "    if (_macd > _macdS) and (_NmacdH > 0.75):\n",
    "        return 1\n",
    "    elif _macd < _macdS and (_NmacdH <= 0.25):\n",
    "        return -1\n",
    "    else:\n",
    "        return 0\n",
    "    \n",
    "def Strat_BullishOversold(_close:float, _EMA:float, _ST:float, _SRSI:float, _SOS:float):\n",
    "    return 1 if (((_SRSI+_SOS)/2 < 20) and ((_close > _EMA) or (_close > _ST))) else 0\n",
    "\n",
    "def Strat_APO(_APO:pd.Series):    \n",
    "    #Absolute price oscillator \n",
    "    #Buy when APO cross from 0 to +ve\n",
    "    stoch_signal = []\n",
    "    signal = 0\n",
    "    for i in range(len(_APO)):\n",
    "        if _APO[i] > 0:\n",
    "            if signal != 1:\n",
    "                signal = 1\n",
    "                stoch_signal.append(signal)\n",
    "            else:\n",
    "                stoch_signal.append(0)\n",
    "        elif _APO[i] <= 0:\n",
    "            if signal != 0:\n",
    "                signal = 0\n",
    "                stoch_signal.append(0)\n",
    "            else:\n",
    "                stoch_signal.append(0)\n",
    "        else:\n",
    "            stoch_signal.append(0)\n",
    "    return stoch_signal\n",
    "\n",
    "#Aroon\n",
    "#IF AROON UP LINE => 70 AND AROON DOWN LINE <= 30 --> BUY SIGNAL\n",
    "#IF AROON UP LINE <= 30 AND AROON DOWN LINE >= 70 --> SELL SIGNAL\n",
    "def Strat_AROON(_AROONUP:pd.Series, _AROONDown:pd.Series):\n",
    "    aroon_signal = []\n",
    "    signal = 0\n",
    "    for i in range(len(_AROONUP)):\n",
    "        if _AROONUP[i] >= 70 and _AROONDown[i] <= 30:\n",
    "            if signal != 1:\n",
    "                signal = 1\n",
    "                aroon_signal.append(signal)\n",
    "            else:\n",
    "                aroon_signal.append(0)\n",
    "        elif _AROONUP[i] <= 30 and _AROONDown[i] >= 70:\n",
    "            if signal != -1:\n",
    "                signal = -1\n",
    "                aroon_signal.append(signal)\n",
    "            else:\n",
    "                aroon_signal.append(0)\n",
    "        else:\n",
    "            aroon_signal.append(0)\n",
    "    return aroon_signal\n",
    "\n",
    "#Money flow index\n",
    "#MFI < 20 then Buy\n",
    "def Strat_MFI(_MFI):\n",
    "    MFI_signal = []\n",
    "    signal = 0\n",
    "    for i in range(len(_MFI)):\n",
    "        if _MFI[i] < 20:\n",
    "            if signal != 1:\n",
    "                signal = 1\n",
    "                MFI_signal.append(signal)\n",
    "            else:\n",
    "                MFI_signal.append(0)\n",
    "        elif _MFI[i] >= 0:\n",
    "            if signal != 0:\n",
    "                signal = 0\n",
    "                MFI_signal.append(0)\n",
    "            else:\n",
    "                MFI_signal.append(0)\n",
    "        else:\n",
    "            MFI_signal.append(0)\n",
    "    return MFI_signal"
   ]
  },
  {
   "cell_type": "code",
   "execution_count": 11,
   "metadata": {},
   "outputs": [],
   "source": [
    "def Gen_backtesting_data(_ccy:str):\n",
    "    # Load data\n",
    "    _data = formatBacktestdata(_ccy)\n",
    "    _startDate, _endDate = getRandomPeriod(_date=_data.date.unique(), _numDays=180)\n",
    "    _train = _data[(_data.date >= _startDate) & (_data.date <= _endDate)].reset_index(drop=True)\n",
    "    _test = _data[(_data.date >= datetime.date(2021, 10, 31))].reset_index(drop=True)\n",
    "#     for data in [_train, _test]:\n",
    "#         # Normalization\n",
    "# #         data['SOS'] = calSTOSC(_sto=data['Close'], _window_length=14)\n",
    "# #         data['SFastK'], data['SSlowK'] = calFastSlowK(_sto=data['Close'], _high=data['High'], _low=data['Low'], \\\n",
    "# #                                                       _window_length=14, _smoother=3)\n",
    "# #         data['RSI'] = calRSI(data['Close'], _window_length=14, _mode='EWMA')\n",
    "# #         data['SRSI'] = calSTOSC(_sto=data['RSI'], _window_length=14)\n",
    "# #         data['SVOL'] = calSTOSC(_sto=data['Volume'], _window_length=14)\n",
    "# #         data['ST'] = calSuperTrend(_close=data['Close'], _high=data['High'], \n",
    "# #                                    _low=data['Low'], _window_length=14, _multiplier=3)\n",
    "# #         data['MACD'], data['MACD_SLine'], data['MACD_Hist'] = calMACD(_close=data['Close'], _windowK=12, \\\n",
    "# #                                                                 _windowD=26, _windowS=9)\n",
    "# #         data['N_MACD_Hist'] = ((data.MACD_Hist - data.MACD_Hist.min())/(data.MACD_Hist.max() - data.MACD_Hist.min()))\n",
    "# #         data['APO'] = talib.APO(data.Close, fastperiod = 4, slowperiod = 6, matype = 0)\n",
    "# #         data['AROONDown'], data['AROONUP'] = talib.AROON(data['High'], data['Low'], timeperiod=14)\n",
    "# #         data['MFI'] = talib.MFI(data['High'], data['Low'], data['Close'], data['Volume'], timeperiod=14)\n",
    "    return _train, _test"
   ]
  },
  {
   "cell_type": "code",
   "execution_count": 12,
   "metadata": {},
   "outputs": [],
   "source": [
    "def Gen_backtesting_signal(_data:pd.DataFrame):\n",
    "    # Signal\n",
    "    _signaldf = pd.DataFrame(data=[x for x in _data.date], columns=['date'])\n",
    "    _signaldf['time'] = _data.time\n",
    "    # Volume\n",
    "    for _vlag in [0, 1, 2, 3, 4, 5]:\n",
    "        _data['MinMaxVolume_LAG_{}'.format(_vlag)] = ((_data.Volume - _data.Volume.min()) / \\\n",
    "                                          (_data.Volume.max() - _data.Volume.min())).shift(_vlag)\n",
    "        _limit = _data['MinMaxVolume_LAG_{}'.format(_vlag)].mean() + _data['MinMaxVolume_LAG_{}'.format(_vlag)].std()\n",
    "        _signaldf['Volume_LAG_{}'.format(_vlag)] = _data['MinMaxVolume_LAG_{}'.format(_vlag)].apply(lambda x: \n",
    "            Strat_Volume(_N_volume=x, _threshold=_limit))\n",
    "    # Oversold\n",
    "    for _threshold in [20, 25, 30, 40]:\n",
    "        # Stochastic Oscillator\n",
    "        _signaldf['Oversold_S.OSC_{}'.format(_threshold)] = _data['SOS'].apply(lambda x : -1 if x \\\n",
    "            <= _threshold else 1 if x >= (100-_threshold) else 0)\n",
    "        # RSI\n",
    "        _signaldf['Oversold_RSI_{}'.format(_threshold)] = _data['RSI'].apply(lambda x : -1 if x \\\n",
    "            <= _threshold else 1 if x >= (100-_threshold) else 0)\n",
    "        # Stochastic RSI\n",
    "        _signaldf['Oversold_S.RSI_{}'.format(_threshold)] = _data['SRSI'].apply(lambda x : -1 if x \\\n",
    "            <= _threshold else 1 if x >= (100-_threshold) else 0)\n",
    "        # FastK, SlowK\n",
    "        _signaldf['Oversold_FastSlowK_{}'.format(_threshold)] = _data[['SFastK', 'SSlowK']].apply(lambda x : \n",
    "            Strat_FastSlowK(_fastK = x[0], _slowK = x[1], _thes=_threshold), axis=1)\n",
    "        _signaldf['Oversold_KD_{}'.format(_threshold)] = _data[['SFastK', 'SSlowK']].apply(lambda x : \n",
    "            Strat_KDSwing(_fastK = x[0], _slowK = x[1], _thes=_threshold), axis=1)\n",
    "    # Bullish Trend\n",
    "    # Super Trend\n",
    "    _signaldf['SuperTrend'] = _data[['Close', 'ST']].apply(lambda x : -1 if x[0] <= x[1] else 1, axis=1)\n",
    "    # MACD\n",
    "    _signaldf['MACD'] = _data[['MACD', 'MACD_SLine', 'N_MACD_Hist']].apply(lambda x :\n",
    "                        Strat_MACD(_macd = x[0], _macdS = x[1], _NmacdH = x[2]), axis=1)\n",
    "    # EMA\n",
    "    for _ema in [3, 7, 14, 28]:\n",
    "        _data['EMA{}'.format(_ema)] = _data.Close.ewm(span=_ema).mean()\n",
    "        _signaldf['EMA_{}'.format(_ema)] = _data[['Close', 'EMA{}'.format(_ema)]].apply(lambda x : \n",
    "            -1 if x[0] <= x[1] else 1, axis=1)\n",
    "    # Mean-Revert & Short-term Momentum\n",
    "    for _lag in [1, 2, 3, 4, 5, 7, 14, 28]:\n",
    "        _data['LAG_{}'.format(_lag)] = (_data.Close/_data.Close.shift(_lag)-1)\n",
    "        _signaldf['MeanRevert_LAG_{}'.format(_lag)] = _data['LAG_{}'.format(_lag)].apply(lambda x : 1 if x < 0 else 0)\n",
    "        _signaldf['CarryMomentum_LAG_{}'.format(_lag)] = _data['LAG_{}'.format(_lag)].apply(lambda x : 1 if x > 0 else 0)\n",
    "    # Complicated\n",
    "    _signaldf['BullishOversold'] = _data[['Close', 'EMA{}'.format(14), 'ST', 'SRSI', 'SOS']].apply(lambda \\\n",
    "                              x:Strat_BullishOversold(x[0], x[1], x[2], x[3], x[4]), axis=1)\n",
    "    _signaldf['APO'] = Strat_APO(_APO=_data['APO'])\n",
    "    _signaldf['AROON'] = Strat_AROON(_AROONUP=_data['AROONUP'], _AROONDown=_data['AROONDown'])\n",
    "    # Y\n",
    "    _signaldf['Actual_Y'] = (_data['Close'].shift(-1)/_data['Close']-1).apply(lambda x : 1 if x > 0 else 0)\n",
    "    \n",
    "    return _signaldf[(_signaldf.date > min(_signaldf.date)) & \\\n",
    "            (_signaldf.date < max(_signaldf.date))].reset_index(drop=True)"
   ]
  },
  {
   "cell_type": "code",
   "execution_count": 13,
   "metadata": {
    "scrolled": true
   },
   "outputs": [],
   "source": [
    "def Gen_FeaturesSelection(_train:pd.DataFrame):\n",
    "    # Feature Selection\n",
    "    X = _train.drop(['date', 'time', 'Actual_Y'], axis=1)\n",
    "    y = _train['Actual_Y']\n",
    "    # define the model\n",
    "    model = LogisticRegression(solver='lbfgs', max_iter=1000)\n",
    "    # fit the model\n",
    "    model.fit(X, y)\n",
    "    # get importance\n",
    "    importances_SOL = pd.DataFrame(data={'Attribute': X.columns, 'Importance': model.coef_[0]})\n",
    "    importances_SOL = importances_SOL.sort_values(by='Importance', ascending=False).reset_index(drop=True)\n",
    "    return (importances_SOL)"
   ]
  },
  {
   "cell_type": "code",
   "execution_count": 14,
   "metadata": {},
   "outputs": [],
   "source": [
    "def Gen_backtesting_fitmodel(_train:pd.DataFrame, _test:pd.DataFrame, _model:str):\n",
    "    # Split X, y\n",
    "    _trainX = _train.drop(['date', 'time', 'Actual_Y'], axis=1)\n",
    "    _trainy = _train['Actual_Y']\n",
    "    _testX = _test.drop(['date', 'time', 'Actual_Y'], axis=1)\n",
    "    _testy = _test['Actual_Y']\n",
    "    # Fit\n",
    "    if _model == 'LOGI':\n",
    "        model = sm.Logit(_trainy, _trainX)\n",
    "        logi = model.fit(solver='lbfgs', max_iter=1000)\n",
    "        print('Training Data')\n",
    "        display(logi.summary())\n",
    "        display(confusion_matrix(_trainy, (logi.predict(_trainX) >= 0.5).astype(int)))\n",
    "        print(classification_report(_trainy, (logi.predict(_trainX) >= 0.5).astype(int)))\n",
    "        print('Testing Data')\n",
    "        display(confusion_matrix(_testy, (logi.predict(_testX) >= 0.5).astype(int)))\n",
    "        print(classification_report(_testy, (logi.predict(_testX) >= 0.5).astype(int)))\n",
    "    elif _model == 'XGBOOST':\n",
    "        fix_params = {'objective': 'binary:logistic', 'eval_metric':'mlogloss', \\\n",
    "                      'colsample_bytree': 0.35, 'eta': 0.05, 'max_depth': 5, \\\n",
    "                      'n_estimators': 50, 'subsample': 0.45}\n",
    "        xg_reg = xgb.XGBClassifier(**fix_params)\n",
    "        xg_reg.fit(_trainX, _trainy)\n",
    "        print('Training Data')\n",
    "        display(confusion_matrix(_trainy, xg_reg.predict(_trainX)))\n",
    "        print(classification_report(_trainy, xg_reg.predict(_trainX)))\n",
    "        fig, ax = plt.subplots(figsize=(10,10))\n",
    "        xgb.plot_importance(xg_reg, max_num_features=10, height=0.5, ax=ax,importance_type='weight')\n",
    "        plt.show()\n",
    "        print('Testing Data')\n",
    "        display(confusion_matrix(_testy, xg_reg.predict(_testX)))\n",
    "        print(classification_report(_testy, xg_reg.predict(_testX)))"
   ]
  },
  {
   "cell_type": "code",
   "execution_count": null,
   "metadata": {},
   "outputs": [],
   "source": [
    "# Feature Selection\n",
    "_ccyList = ['BTC', 'ETH', 'SOL', 'AVAX', 'ADA']\n",
    "_fsList = []\n",
    "for _ccy in _ccyList:\n",
    "    _Train, _Test = Gen_backtesting_data(_ccy)\n",
    "    _Signal_Train, _Signal_Test = Gen_backtesting_signal(_Train), Gen_backtesting_signal(_Test)\n",
    "    _FS = Gen_FeaturesSelection(_Signal_Train)\n",
    "    _fsList.append(_FS)\n",
    "concat_imp = pd.concat(_fsList)\n",
    "_features_avg = concat_imp.groupby(pd.Grouper(key='Attribute')).mean()\n",
    "_features_avg = _features_avg.sort_values(by='Importance', ascending=False)\n",
    "_selectedFeatures = _features_avg[:10].index"
   ]
  },
  {
   "cell_type": "code",
   "execution_count": null,
   "metadata": {},
   "outputs": [],
   "source": [
    "# Model Evaluation\n",
    "_ccyList = ['BTC', 'ETH', 'SOL', 'AVAX', 'ADA']#, 'BNB', 'DOGE', 'DOT', 'XRP']\n",
    "for _ccy in _ccyList:\n",
    "    _Train, _Test = Gen_backtesting_data(_ccy)\n",
    "    _Signal_Train, _Signal_Test = Gen_backtesting_signal(_Train), Gen_backtesting_signal(_Test)\n",
    "    _Signal_Train_FS, _Signal_Test_FS = _Signal_Train[_selectedFeatures], _Signal_Test[_selectedFeatures]\n",
    "    Gen_backtesting_fitmodel(_train=_Signal_Train, _test=_Signal_Test, _model='LOGI')"
   ]
  },
  {
   "cell_type": "code",
   "execution_count": null,
   "metadata": {},
   "outputs": [],
   "source": [
    "#_SOLTrain, _SOLTest = Gen_backtesting_data('SOL')"
   ]
  },
  {
   "cell_type": "code",
   "execution_count": null,
   "metadata": {},
   "outputs": [],
   "source": [
    "#_Signal_SOLTrain, _Signal_SOLTest = Gen_backtesting_signal(_SOLTrain), Gen_backtesting_signal(_SOLTest)\n",
    "#_Signal_SOLTrain_FS, _Signal_SOLTest_FS = _Signal_SOLTrain[_selectedFeatures], _Signal_SOLTest[_selectedFeatures]"
   ]
  },
  {
   "cell_type": "code",
   "execution_count": null,
   "metadata": {},
   "outputs": [],
   "source": [
    "#Gen_backtesting_fitmodel(_train=_Signal_SOLTrain, _test=_Signal_SOLTest, _model='LOGI')"
   ]
  },
  {
   "cell_type": "markdown",
   "metadata": {},
   "source": [
    "# Tmp Test"
   ]
  },
  {
   "cell_type": "code",
   "execution_count": 86,
   "metadata": {},
   "outputs": [],
   "source": [
    "def Gen_backtesting_data(_ccy:str):\n",
    "    # Load data\n",
    "    _data = formatBacktestdata(_ccy)\n",
    "    _startDate, _endDate = getRandomPeriod(_date=_data.date.unique(), _numDays=180)\n",
    "    _train = _data[(_data.date >= _startDate) & (_data.date <= _endDate)].reset_index(drop=True)\n",
    "    _test = _data[(_data.date >= datetime.date(2021, 10, 31))].reset_index(drop=True)\n",
    "    for data in [_train, _test]:\n",
    "        # Normalization\n",
    "        # Return Lag\n",
    "        for _lag in [1, 2, 3, 4, 5, 7, 14, 28]:\n",
    "            data['Return_LAG_{}'.format(_lag)] = (data.Close/data.Close.shift(_lag)-1)\n",
    "        # Realized Volatility\n",
    "        for _rv in [15, 30, 60, 180, 360, 720, 1440]:\n",
    "            ann_factor = 1440 * 365 / _rv\n",
    "            data['RealizedVol_Window_{}'.format(_rv)] = np.sqrt(np.square(data.Return_LAG_1).rolling(_rv).sum()*ann_factor)\n",
    "        # ADTV\n",
    "        for _adtv in [3, 5, 15, 30, 60, 180, 360, 1440]:\n",
    "            data['ADTV_{}'.format(_adtv)] = data.Volume.rolling(window=_adtv).mean().shift(1)\n",
    "            \n",
    "    return _train, _test"
   ]
  },
  {
   "cell_type": "code",
   "execution_count": 87,
   "metadata": {},
   "outputs": [],
   "source": [
    "_SOLTrain, _SOLTest = Gen_backtesting_data('SOL')"
   ]
  },
  {
   "cell_type": "code",
   "execution_count": 88,
   "metadata": {},
   "outputs": [],
   "source": [
    "def Gen_backtesting_signal_cont(_data:pd.DataFrame):\n",
    "    # Signal\n",
    "    _signaldf = pd.DataFrame(data=[x for x in _data.date], columns=['date'])\n",
    "    _signaldf['time'] = _data.time\n",
    "#     # SOS\n",
    "#     _signaldf['SOS'] = _data['SOS']\n",
    "#     # RSI\n",
    "#     _signaldf['RSI'] = _data['RSI']\n",
    "#     _signaldf['SRSI'] = _data['SRSI']\n",
    "#     # SVOL\n",
    "#     _signaldf['SVOL'] = _data['SVOL']\n",
    "#     # APO\n",
    "#     _signaldf['APO'] = _data['APO']\n",
    "#     # MFI\n",
    "#     _signaldf['MFI'] = _data['MFI']\n",
    "#     # KD\n",
    "#     _signaldf['KD'] = _data['SFastK'] - _data['SSlowK']\n",
    "#     # ST\n",
    "#     _signaldf['SuperTrend'] = _data[['Close', 'ST']].apply(lambda x : -1 if x[0] <= x[1] else 1, axis=1)\n",
    "    # Return Lag\n",
    "    for _lag in [1, 2, 3, 4, 5, 7, 14, 28]:\n",
    "        _signaldf['Return_LAG_{}'.format(_lag)] = _data['Return_LAG_{}'.format(_lag)]\n",
    "    # Realized Volatility\n",
    "    RV_scaled = pd.DataFrame(preprocessing.StandardScaler().fit_transform(_data[_data.columns[['RealizedVol' \\\n",
    "                      in col for col in _data.columns]]]), columns=_data[_data.columns[['RealizedVol' in \\\n",
    "                          col for col in _data.columns]]].columns)\n",
    "    # ADTV\n",
    "    ADTV_scaled = pd.DataFrame(preprocessing.StandardScaler().fit_transform(_data[_data.columns[['ADTV' \\\n",
    "                      in col for col in _data.columns]]]), columns=_data[_data.columns[['ADTV' in \\\n",
    "                          col for col in _data.columns]]].columns)\n",
    "    _signaldf = pd.concat([_signaldf, RV_scaled, ADTV_scaled], axis=1)\n",
    "#     # EMA Diff\n",
    "#     for _ema in [3, 5, 7, 14, 28, 60, 90, 120, 150, 180]:\n",
    "#         _signaldf['EMA_{}'.format(_ema)] = _data.Close - _data.Close.ewm(span=_ema).mean()\n",
    "#     # MACD Hist\n",
    "#     _signaldf['MACD_Hist'] = _data['MACD_Hist']\n",
    "    # Y\n",
    "    _signaldf['Actual_Y'] = (_data['Close'].shift(-1)/_data['Close']-1).apply(lambda x : 1 if x > 0 else 0)\n",
    "    \n",
    "    return _signaldf[(_signaldf.date > min(_signaldf.date)) & \\\n",
    "            (_signaldf.date < max(_signaldf.date))].reset_index(drop=True)"
   ]
  },
  {
   "cell_type": "code",
   "execution_count": 89,
   "metadata": {
    "scrolled": true
   },
   "outputs": [],
   "source": [
    "# data\n",
    "_Traindf = Gen_backtesting_signal_cont(_data=_SOLTrain)\n",
    "_Testdf = Gen_backtesting_signal_cont(_data=_SOLTest)"
   ]
  },
  {
   "cell_type": "markdown",
   "metadata": {},
   "source": [
    "# VIF"
   ]
  },
  {
   "cell_type": "code",
   "execution_count": 90,
   "metadata": {},
   "outputs": [],
   "source": [
    "def vifcl(df):\n",
    "    a = 0\n",
    "    i = 0\n",
    "    vif = pd.DataFrame()\n",
    "    vif[\"VIF Factor\"] = [variance_inflation_factor(df.values, i) for i in range(df.shape[1])]\n",
    "    vif[\"features\"] = df.columns\n",
    "    t = vif[\"VIF Factor\"].max()\n",
    "    for each in vif[\"VIF Factor\"]:\n",
    "        if each == t and each >= 10:\n",
    "            a = i\n",
    "        i += 1\n",
    "    vax = vif[\"VIF Factor\"].loc[a]\n",
    "    print(vif.loc[a],\"\\n>10\")\n",
    "    return a,vax"
   ]
  },
  {
   "cell_type": "code",
   "execution_count": 91,
   "metadata": {
    "scrolled": true
   },
   "outputs": [
    {
     "name": "stdout",
     "output_type": "stream",
     "text": [
      "VIF Factor                   39.8215\n",
      "features      RealizedVol_Window_360\n",
      "Name: 12, dtype: object \n",
      ">10\n",
      "39.82154371288993\n",
      "dropped RealizedVol_Window_360\n",
      "VIF Factor     29.743\n",
      "features      ADTV_30\n",
      "Name: 17, dtype: object \n",
      ">10\n",
      "29.743043538068196\n",
      "dropped ADTV_30\n",
      "VIF Factor                  25.4046\n",
      "features      RealizedVol_Window_60\n",
      "Name: 10, dtype: object \n",
      ">10\n",
      "25.404580243953742\n",
      "dropped RealizedVol_Window_60\n",
      "VIF Factor     19.9238\n",
      "features      ADTV_180\n",
      "Name: 17, dtype: object \n",
      ">10\n",
      "19.923772063899506\n",
      "dropped ADTV_180\n",
      "VIF Factor    15.6763\n",
      "features       ADTV_5\n",
      "Name: 14, dtype: object \n",
      ">10\n",
      "15.676278763584817\n",
      "dropped ADTV_5\n",
      "VIF Factor                    13.8523\n",
      "features      RealizedVol_Window_1440\n",
      "Name: 12, dtype: object \n",
      ">10\n",
      "13.852326099295572\n",
      "dropped RealizedVol_Window_1440\n",
      "VIF Factor                  13.2349\n",
      "features      RealizedVol_Window_30\n",
      "Name: 9, dtype: object \n",
      ">10\n",
      "13.234878587777281\n",
      "dropped RealizedVol_Window_30\n",
      "VIF Factor         2.04574\n",
      "features      Return_LAG_1\n",
      "Name: 0, dtype: object \n",
      ">10\n",
      "2.0457390263538824\n",
      "['RealizedVol_Window_360', 'ADTV_30', 'RealizedVol_Window_60', 'ADTV_180', 'ADTV_5', 'RealizedVol_Window_1440', 'RealizedVol_Window_30']\n"
     ]
    }
   ],
   "source": [
    "# Raw train/test for VIF\n",
    "_trainX_VIF = _Traindf.drop(['date', 'time', 'Actual_Y'], axis=1)\n",
    "_trainy_VIF = _Traindf['Actual_Y']\n",
    "# First Fit\n",
    "vif = pd.DataFrame()\n",
    "vif[\"VIF Factor\"] = [variance_inflation_factor(_trainX_VIF.values, i) for i in range(_trainX_VIF.shape[1])]\n",
    "vif[\"features\"] = _trainX_VIF.columns\n",
    "vif.round(1)\n",
    "# Drop VIF>10\n",
    "dropcindex=[]\n",
    "while True:\n",
    "    vmax = 0\n",
    "    dropt = False\n",
    "    k,s = vifcl(_trainX_VIF)\n",
    "    print(s)\n",
    "    if s >= 10:\n",
    "        dropt = True\n",
    "    if dropt == True:\n",
    "        print(\"dropped\",_trainX_VIF.columns[k])\n",
    "        dropcindex.append(_trainX_VIF.columns[k])\n",
    "        _trainX_VIF = _trainX_VIF.drop([_trainX_VIF.columns[k]],axis=1)\n",
    "        vif = vif.drop([k])\n",
    "        _trainX_VIF = _trainX_VIF.reset_index(drop=True)\n",
    "        vif = vif.reset_index(drop=True)\n",
    "    else:\n",
    "        break\n",
    "        \n",
    "print(dropcindex)"
   ]
  },
  {
   "cell_type": "markdown",
   "metadata": {},
   "source": [
    "# Model"
   ]
  },
  {
   "cell_type": "code",
   "execution_count": 92,
   "metadata": {
    "scrolled": true
   },
   "outputs": [
    {
     "name": "stdout",
     "output_type": "stream",
     "text": [
      "Optimization terminated successfully.\n",
      "         Current function value: 0.692615\n",
      "         Iterations 5\n",
      "Training Data\n"
     ]
    },
    {
     "data": {
      "text/html": [
       "<table class=\"simpletable\">\n",
       "<caption>Logit Regression Results</caption>\n",
       "<tr>\n",
       "  <th>Dep. Variable:</th>       <td>Actual_Y</td>     <th>  No. Observations:  </th>   <td>257370</td>   \n",
       "</tr>\n",
       "<tr>\n",
       "  <th>Model:</th>                 <td>Logit</td>      <th>  Df Residuals:      </th>   <td>257354</td>   \n",
       "</tr>\n",
       "<tr>\n",
       "  <th>Method:</th>                 <td>MLE</td>       <th>  Df Model:          </th>   <td>    15</td>   \n",
       "</tr>\n",
       "<tr>\n",
       "  <th>Date:</th>            <td>Tue, 07 Dec 2021</td> <th>  Pseudo R-squ.:     </th>  <td>0.0006794</td> \n",
       "</tr>\n",
       "<tr>\n",
       "  <th>Time:</th>                <td>02:29:09</td>     <th>  Log-Likelihood:    </th> <td>-1.7826e+05</td>\n",
       "</tr>\n",
       "<tr>\n",
       "  <th>converged:</th>             <td>True</td>       <th>  LL-Null:           </th> <td>-1.7838e+05</td>\n",
       "</tr>\n",
       "<tr>\n",
       "  <th>Covariance Type:</th>     <td>nonrobust</td>    <th>  LLR p-value:       </th>  <td>4.616e-43</td> \n",
       "</tr>\n",
       "</table>\n",
       "<table class=\"simpletable\">\n",
       "<tr>\n",
       "             <td></td>               <th>coef</th>     <th>std err</th>      <th>z</th>      <th>P>|z|</th>  <th>[0.025</th>    <th>0.975]</th>  \n",
       "</tr>\n",
       "<tr>\n",
       "  <th>Return_LAG_1</th>           <td>    0.3372</td> <td>    2.131</td> <td>    0.158</td> <td> 0.874</td> <td>   -3.839</td> <td>    4.514</td>\n",
       "</tr>\n",
       "<tr>\n",
       "  <th>Return_LAG_2</th>           <td>   -3.2622</td> <td>    2.129</td> <td>   -1.532</td> <td> 0.125</td> <td>   -7.435</td> <td>    0.911</td>\n",
       "</tr>\n",
       "<tr>\n",
       "  <th>Return_LAG_3</th>           <td>    1.7746</td> <td>    2.128</td> <td>    0.834</td> <td> 0.404</td> <td>   -2.397</td> <td>    5.946</td>\n",
       "</tr>\n",
       "<tr>\n",
       "  <th>Return_LAG_4</th>           <td>   -5.4971</td> <td>    2.128</td> <td>   -2.583</td> <td> 0.010</td> <td>   -9.668</td> <td>   -1.326</td>\n",
       "</tr>\n",
       "<tr>\n",
       "  <th>Return_LAG_5</th>           <td>    7.9349</td> <td>    1.819</td> <td>    4.361</td> <td> 0.000</td> <td>    4.369</td> <td>   11.501</td>\n",
       "</tr>\n",
       "<tr>\n",
       "  <th>Return_LAG_7</th>           <td>   -7.5637</td> <td>    1.170</td> <td>   -6.463</td> <td> 0.000</td> <td>   -9.857</td> <td>   -5.270</td>\n",
       "</tr>\n",
       "<tr>\n",
       "  <th>Return_LAG_14</th>          <td>    0.2441</td> <td>    0.692</td> <td>    0.353</td> <td> 0.724</td> <td>   -1.112</td> <td>    1.601</td>\n",
       "</tr>\n",
       "<tr>\n",
       "  <th>Return_LAG_28</th>          <td>   -2.5159</td> <td>    0.421</td> <td>   -5.974</td> <td> 0.000</td> <td>   -3.341</td> <td>   -1.690</td>\n",
       "</tr>\n",
       "<tr>\n",
       "  <th>RealizedVol_Window_15</th>  <td>    0.0052</td> <td>    0.009</td> <td>    0.587</td> <td> 0.557</td> <td>   -0.012</td> <td>    0.023</td>\n",
       "</tr>\n",
       "<tr>\n",
       "  <th>RealizedVol_Window_180</th> <td>    0.0138</td> <td>    0.011</td> <td>    1.216</td> <td> 0.224</td> <td>   -0.008</td> <td>    0.036</td>\n",
       "</tr>\n",
       "<tr>\n",
       "  <th>RealizedVol_Window_720</th> <td>    0.0150</td> <td>    0.011</td> <td>    1.392</td> <td> 0.164</td> <td>   -0.006</td> <td>    0.036</td>\n",
       "</tr>\n",
       "<tr>\n",
       "  <th>ADTV_3</th>                 <td>    0.0257</td> <td>    0.007</td> <td>    3.617</td> <td> 0.000</td> <td>    0.012</td> <td>    0.040</td>\n",
       "</tr>\n",
       "<tr>\n",
       "  <th>ADTV_15</th>                <td>   -0.0041</td> <td>    0.011</td> <td>   -0.369</td> <td> 0.712</td> <td>   -0.026</td> <td>    0.017</td>\n",
       "</tr>\n",
       "<tr>\n",
       "  <th>ADTV_60</th>                <td>   -0.0011</td> <td>    0.010</td> <td>   -0.114</td> <td> 0.909</td> <td>   -0.020</td> <td>    0.018</td>\n",
       "</tr>\n",
       "<tr>\n",
       "  <th>ADTV_360</th>               <td>   -0.0198</td> <td>    0.010</td> <td>   -2.045</td> <td> 0.041</td> <td>   -0.039</td> <td>   -0.001</td>\n",
       "</tr>\n",
       "<tr>\n",
       "  <th>ADTV_1440</th>              <td>   -0.0188</td> <td>    0.009</td> <td>   -2.060</td> <td> 0.039</td> <td>   -0.037</td> <td>   -0.001</td>\n",
       "</tr>\n",
       "</table>"
      ],
      "text/plain": [
       "<class 'statsmodels.iolib.summary.Summary'>\n",
       "\"\"\"\n",
       "                           Logit Regression Results                           \n",
       "==============================================================================\n",
       "Dep. Variable:               Actual_Y   No. Observations:               257370\n",
       "Model:                          Logit   Df Residuals:                   257354\n",
       "Method:                           MLE   Df Model:                           15\n",
       "Date:                Tue, 07 Dec 2021   Pseudo R-squ.:               0.0006794\n",
       "Time:                        02:29:09   Log-Likelihood:            -1.7826e+05\n",
       "converged:                       True   LL-Null:                   -1.7838e+05\n",
       "Covariance Type:            nonrobust   LLR p-value:                 4.616e-43\n",
       "==========================================================================================\n",
       "                             coef    std err          z      P>|z|      [0.025      0.975]\n",
       "------------------------------------------------------------------------------------------\n",
       "Return_LAG_1               0.3372      2.131      0.158      0.874      -3.839       4.514\n",
       "Return_LAG_2              -3.2622      2.129     -1.532      0.125      -7.435       0.911\n",
       "Return_LAG_3               1.7746      2.128      0.834      0.404      -2.397       5.946\n",
       "Return_LAG_4              -5.4971      2.128     -2.583      0.010      -9.668      -1.326\n",
       "Return_LAG_5               7.9349      1.819      4.361      0.000       4.369      11.501\n",
       "Return_LAG_7              -7.5637      1.170     -6.463      0.000      -9.857      -5.270\n",
       "Return_LAG_14              0.2441      0.692      0.353      0.724      -1.112       1.601\n",
       "Return_LAG_28             -2.5159      0.421     -5.974      0.000      -3.341      -1.690\n",
       "RealizedVol_Window_15      0.0052      0.009      0.587      0.557      -0.012       0.023\n",
       "RealizedVol_Window_180     0.0138      0.011      1.216      0.224      -0.008       0.036\n",
       "RealizedVol_Window_720     0.0150      0.011      1.392      0.164      -0.006       0.036\n",
       "ADTV_3                     0.0257      0.007      3.617      0.000       0.012       0.040\n",
       "ADTV_15                   -0.0041      0.011     -0.369      0.712      -0.026       0.017\n",
       "ADTV_60                   -0.0011      0.010     -0.114      0.909      -0.020       0.018\n",
       "ADTV_360                  -0.0198      0.010     -2.045      0.041      -0.039      -0.001\n",
       "ADTV_1440                 -0.0188      0.009     -2.060      0.039      -0.037      -0.001\n",
       "==========================================================================================\n",
       "\"\"\""
      ]
     },
     "metadata": {},
     "output_type": "display_data"
    },
    {
     "data": {
      "text/plain": [
       "array([[74907, 55204],\n",
       "       [69602, 57657]], dtype=int64)"
      ]
     },
     "metadata": {},
     "output_type": "display_data"
    },
    {
     "name": "stdout",
     "output_type": "stream",
     "text": [
      "              precision    recall  f1-score   support\n",
      "\n",
      "           0       0.52      0.58      0.55    130111\n",
      "           1       0.51      0.45      0.48    127259\n",
      "\n",
      "    accuracy                           0.52    257370\n",
      "   macro avg       0.51      0.51      0.51    257370\n",
      "weighted avg       0.51      0.52      0.51    257370\n",
      "\n",
      "Testing Data\n"
     ]
    },
    {
     "data": {
      "text/plain": [
       "array([[12236, 10180],\n",
       "       [11253,  9531]], dtype=int64)"
      ]
     },
     "metadata": {},
     "output_type": "display_data"
    },
    {
     "name": "stdout",
     "output_type": "stream",
     "text": [
      "              precision    recall  f1-score   support\n",
      "\n",
      "           0       0.52      0.55      0.53     22416\n",
      "           1       0.48      0.46      0.47     20784\n",
      "\n",
      "    accuracy                           0.50     43200\n",
      "   macro avg       0.50      0.50      0.50     43200\n",
      "weighted avg       0.50      0.50      0.50     43200\n",
      "\n"
     ]
    }
   ],
   "source": [
    "# LOGI\n",
    "# Post VIF fit\n",
    "_trainX = _Traindf.drop(['date', 'time', 'Actual_Y'] + dropcindex, axis=1)\n",
    "_trainy = _Traindf['Actual_Y']\n",
    "_testX = _Testdf.drop(['date', 'time', 'Actual_Y'] + dropcindex, axis=1)\n",
    "_testy = _Testdf['Actual_Y']\n",
    "# Constant\n",
    "#_trainX = sm.add_constant(_trainX)\n",
    "#_testX = sm.add_constant(_testX)\n",
    "model = sm.Logit(_trainy, _trainX)\n",
    "logi = model.fit(solver='lbfgs', max_iter=1000, C=1e9)\n",
    "print('Training Data')\n",
    "display(logi.summary())\n",
    "display(confusion_matrix(_trainy, (logi.predict(_trainX) >= 0.5).astype(int)))\n",
    "print(classification_report(_trainy, (logi.predict(_trainX) >= 0.5).astype(int)))\n",
    "print('Testing Data')\n",
    "display(confusion_matrix(_testy, (logi.predict(_testX) >= 0.5).astype(int)))\n",
    "print(classification_report(_testy, (logi.predict(_testX) >= 0.5).astype(int)))"
   ]
  },
  {
   "cell_type": "code",
   "execution_count": 93,
   "metadata": {
    "scrolled": true
   },
   "outputs": [
    {
     "name": "stdout",
     "output_type": "stream",
     "text": [
      "Training Data\n"
     ]
    },
    {
     "data": {
      "text/plain": [
       "array([[90187, 39924],\n",
       "       [66728, 60531]], dtype=int64)"
      ]
     },
     "metadata": {},
     "output_type": "display_data"
    },
    {
     "name": "stdout",
     "output_type": "stream",
     "text": [
      "              precision    recall  f1-score   support\n",
      "\n",
      "           0       0.57      0.69      0.63    130111\n",
      "           1       0.60      0.48      0.53    127259\n",
      "\n",
      "    accuracy                           0.59    257370\n",
      "   macro avg       0.59      0.58      0.58    257370\n",
      "weighted avg       0.59      0.59      0.58    257370\n",
      "\n"
     ]
    },
    {
     "data": {
      "image/png": "[encoded data removed]",
      "text/plain": [
       "<Figure size 720x720 with 1 Axes>"
      ]
     },
     "metadata": {
      "needs_background": "light"
     },
     "output_type": "display_data"
    },
    {
     "name": "stdout",
     "output_type": "stream",
     "text": [
      "Testing Data\n"
     ]
    },
    {
     "data": {
      "text/plain": [
       "array([[12767,  9649],\n",
       "       [11572,  9212]], dtype=int64)"
      ]
     },
     "metadata": {},
     "output_type": "display_data"
    },
    {
     "name": "stdout",
     "output_type": "stream",
     "text": [
      "              precision    recall  f1-score   support\n",
      "\n",
      "           0       0.52      0.57      0.55     22416\n",
      "           1       0.49      0.44      0.46     20784\n",
      "\n",
      "    accuracy                           0.51     43200\n",
      "   macro avg       0.51      0.51      0.51     43200\n",
      "weighted avg       0.51      0.51      0.51     43200\n",
      "\n"
     ]
    }
   ],
   "source": [
    "# Post VIF fit\n",
    "_trainX = _Traindf.drop(['date', 'time', 'Actual_Y'] + dropcindex, axis=1)\n",
    "_trainy = _Traindf['Actual_Y']\n",
    "_testX = _Testdf.drop(['date', 'time', 'Actual_Y'] + dropcindex, axis=1)\n",
    "_testy = _Testdf['Actual_Y']\n",
    "fix_params = {'objective': 'binary:logistic', 'eval_metric':'mlogloss', \\\n",
    "              'colsample_bytree': 0.35, 'eta': 0.05, 'max_depth': 5, \\\n",
    "              'n_estimators': 500, 'subsample': 0.45, 'use_label_encoder':False}\n",
    "xg_reg = xgb.XGBClassifier(**fix_params)\n",
    "xg_reg.fit(_trainX, _trainy)\n",
    "print('Training Data')\n",
    "display(confusion_matrix(_trainy, xg_reg.predict(_trainX)))\n",
    "print(classification_report(_trainy, xg_reg.predict(_trainX)))\n",
    "fig, ax = plt.subplots(figsize=(10,10))\n",
    "xgb.plot_importance(xg_reg, max_num_features=10, height=0.5, ax=ax,importance_type='weight')\n",
    "plt.show()\n",
    "print('Testing Data')\n",
    "display(confusion_matrix(_testy, xg_reg.predict(_testX)))\n",
    "print(classification_report(_testy, xg_reg.predict(_testX)))"
   ]
  },
  {
   "cell_type": "code",
   "execution_count": null,
   "metadata": {},
   "outputs": [],
   "source": [
    "# # XGBoost\n",
    "# XTrain = _Signal_SOLTrain.drop(['date', 'time', 'Actual_Y'], axis=1)\n",
    "# yTrain = _Signal_SOLTrain['Actual_Y']\n",
    "# XTest = _Signal_SOLTest.drop(['date', 'time', 'Actual_Y'], axis=1)\n",
    "# yTest = _Signal_SOLTest['Actual_Y']\n",
    "\n",
    "# fix_params = {'objective': 'binary:logistic', 'eval_metric':'mlogloss', \\\n",
    "#               'colsample_bytree': 0.35, 'eta': 0.05, 'max_depth': 5, 'n_estimators': 50, 'subsample': 0.45}\n",
    "\n",
    "# xg_reg = xgb.XGBClassifier(**fix_params)\n",
    "# xg_reg.fit(XTrain, yTrain)\n",
    "# print('Training Data')\n",
    "# display(confusion_matrix(yTrain, xg_reg.predict(XTrain)))\n",
    "# print(classification_report(yTrain, xg_reg.predict(XTrain)))\n",
    "# print('Testing Data')\n",
    "# display(confusion_matrix(yTest, xg_reg.predict(XTest)))\n",
    "# print(classification_report(yTest, xg_reg.predict(XTest)))"
   ]
  },
  {
   "cell_type": "code",
   "execution_count": null,
   "metadata": {
    "scrolled": true
   },
   "outputs": [],
   "source": [
    "# from pactools.grid_search import GridSearchCVProgressBar\n",
    "# from sklearn.metrics import precision_score, make_scorer\n",
    "\n",
    "# custom_scorer = make_scorer(precision_score, greater_is_better=True,  pos_label=1)\n",
    "\n",
    "# X = _Signal_SOLTrain.drop(['date', 'time', 'Actual_Y'], axis=1)\n",
    "# y = _Signal_SOLTrain['Actual_Y']\n",
    "\n",
    "# cv_params = {'eta':[0.04, 0.05, 0.06], \n",
    "#              'max_depth':[4, 5, 6],\n",
    "#              'subsample': [0.4, 0.45, 0.5], \n",
    "#              'colsample_bytree':[0.3, 0.35, 0.4],\n",
    "#              'n_estimators':[25, 50, 100]\n",
    "#             }\n",
    "# fix_params = {'objective': 'binary:logistic','eval_metric':'mlogloss', 'use_label_encoder':False}\n",
    "\n",
    "# gscv = GridSearchCVProgressBar(xgb.XGBClassifier(**fix_params), param_grid=cv_params, cv=5, scoring=custom_scorer,\n",
    "#                                return_train_score=False, verbose=2)\n",
    "# gscv.fit(X, y)\n",
    "# gscv.best_params_"
   ]
  },
  {
   "cell_type": "code",
   "execution_count": null,
   "metadata": {},
   "outputs": [],
   "source": [
    "print(1)"
   ]
  },
  {
   "cell_type": "code",
   "execution_count": null,
   "metadata": {},
   "outputs": [],
   "source": []
  }
 ],
 "metadata": {
  "kernelspec": {
   "display_name": "Python 3",
   "language": "python",
   "name": "python3"
  },
  "language_info": {
   "codemirror_mode": {
    "name": "ipython",
    "version": 3
   },
   "file_extension": ".py",
   "mimetype": "text/x-python",
   "name": "python",
   "nbconvert_exporter": "python",
   "pygments_lexer": "ipython3",
   "version": "3.8.5"
  }
 },
 "nbformat": 4,
 "nbformat_minor": 4
}
