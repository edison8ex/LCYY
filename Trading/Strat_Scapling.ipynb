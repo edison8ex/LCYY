{
 "cells": [
  {
   "cell_type": "code",
   "execution_count": 54,
   "metadata": {},
   "outputs": [],
   "source": [
    "import pandas as pd\n",
    "import numpy as np\n",
    "import random\n",
    "import datetime\n",
    "import matplotlib.pyplot as plt\n",
    "import statsmodels.api as sm\n",
    "from tqdm import tqdm\n",
    "import xgboost as xgb\n",
    "from sklearn import preprocessing\n",
    "from sklearn.linear_model import LogisticRegression\n",
    "from statsmodels.stats.outliers_influence import variance_inflation_factor\n",
    "from sklearn.metrics import classification_report, confusion_matrix"
   ]
  },
  {
   "cell_type": "code",
   "execution_count": 229,
   "metadata": {},
   "outputs": [],
   "source": [
    "def formatBacktestdata(_ccy:str):\n",
    "    # Formatting\n",
    "    _tarCol = ['Open time', 'Open', 'High', 'Low', 'Volume', 'Close']\n",
    "    _Dir = \"C:\\\\Users\\\\LCYY\\\\Desktop\\\\CrytoTrade\\\\Data\\\\Binance\\\\\"\n",
    "    _filename = '{}USDT.csv'.format(_ccy)\n",
    "    _histData = pd.read_csv(_Dir + _filename, dtype={'Open time':str})[_tarCol].dropna()\n",
    "    _histData['datetime'] = pd.to_datetime(_histData['Open time'], format='%Y-%m-%d %H:%M:%S')\n",
    "    _histData = _histData.sort_values('datetime').reset_index(drop=True)\n",
    "    _histData['date'] = _histData.datetime.dt.date\n",
    "    _histData['time'] = _histData.datetime.dt.time\n",
    "    _histData['symbol'] = _ccy + '/' + 'USDT'\n",
    "    _histData = _histData[['datetime', 'date', 'time', 'symbol'] + _tarCol]\n",
    "    _histData = _histData.drop(columns=['Open time'], axis=1)\n",
    "    return _histData\n",
    "    \n",
    "def getRandomPeriod(_date:list, _numDays:int):\n",
    "    _minDate = datetime.date(2020, 12, 31)\n",
    "    _maxDate = datetime.date(2021, 10, 31)\n",
    "    _startPeriod = random.choice(_date)\n",
    "    _endPeriod = _startPeriod + datetime.timedelta(days=_numDays)\n",
    "    if (_startPeriod >= _minDate) and (_endPeriod <= _maxDate) :\n",
    "        return _startPeriod, _endPeriod\n",
    "    else:\n",
    "        return getRandomPeriod(_date, _numDays)"
   ]
  },
  {
   "cell_type": "code",
   "execution_count": 260,
   "metadata": {},
   "outputs": [],
   "source": [
    "def Gen_Y(_close:pd.Series, _numPeriod:int):\n",
    "    _closelag = (_close.shift(1)/_close)-1\n",
    "    _execCost = abs(_closelag[_closelag < 0].mean()) * 0.5\n",
    "    _Fore = pd.DataFrame(_close, columns=['Close'])\n",
    "    _outY = []\n",
    "    for i in range(1, _numPeriod+1):\n",
    "        _Fore['Fwd_{}'.format(i)] = (((_Fore['Close'].shift(-i)/_Fore['Close'])-1))\n",
    "    _Y = (_Fore.drop(['Close'], axis=1) > _execCost).sum(axis=1).apply(lambda x: 1 if x > 0 else 0)\n",
    "    return _Y\n",
    "    \n",
    "def Gen_backtesting_data(_ccy:str, _scalpWindow:int):\n",
    "    # Load data\n",
    "    _data = formatBacktestdata(_ccy)\n",
    "    #_startDate, _endDate = getRandomPeriod(_date=_data.date.unique(), _numDays=90)\n",
    "    _TrainStartDate, _TrainEndDate = datetime.date(2020, 12, 31), datetime.date(2021, 10, 31) \n",
    "    _TestStartDate, _TestEndDate = datetime.date(2021, 10, 31), datetime.date(2021, 12, 1) \n",
    "    _train = _data[(_data.date >= _TrainStartDate) & (_data.date <= _TrainEndDate)].reset_index(drop=True)\n",
    "    _test = _data[(_data.date >= _TestStartDate) & (_data.date <= _TestEndDate)].reset_index(drop=True)\n",
    "    for data in [_train, _test]:\n",
    "        # Normalization\n",
    "        # Return Lag\n",
    "        for _lag in [1, 2, 3, 4, 5, 7, 14, 28]:\n",
    "            data['Return_LAG_{}'.format(_lag)] = (data.Close/data.Close.shift(_lag)-1)\n",
    "        # Realized Volatility\n",
    "        for _rv in [15, 30, 60, 180, 360, 720, 1440]:\n",
    "            ann_factor = 1440 * 365 / _rv\n",
    "            data['RealizedVol_Window_{}'.format(_rv)] = np.sqrt(np.square(data.Return_LAG_1).rolling(_rv).sum().clip(0,None) \\\n",
    "                *ann_factor)\n",
    "        # ADTV\n",
    "        for _adtv in [3, 5, 15, 30, 60, 180, 360, 1440]:\n",
    "            data['ADTV_{}'.format(_adtv)] = data.Volume.rolling(window=_adtv).mean().shift(1)\n",
    "        # Y\n",
    "        _execCost = 0.0005\n",
    "        data['Actual_Y'] = Gen_Y(_close=_data.Close, _numPeriod=_scalpWindow)\n",
    "    # Cut First and Last Day\n",
    "    _train = _train[(_train.date > _TrainStartDate) & (_train.date < _TrainEndDate)].reset_index(drop=True)\n",
    "    _test = _test[(_test.date > _TestStartDate) & (_test.date < _TestEndDate)].reset_index(drop=True)\n",
    "    return _train, _test\n",
    "    \n",
    "def Gen_backtesting_signal_cont(_data:pd.DataFrame):\n",
    "    # Signal\n",
    "    _signaldf = pd.DataFrame(data=[x for x in _data.date], columns=['date'])\n",
    "    _signaldf['time'] = _data.time\n",
    "    # Return Lag\n",
    "    for _lag in [1, 2, 3, 4, 5, 7, 14, 28]:\n",
    "        _signaldf['Return_LAG_{}'.format(_lag)] = _data['Return_LAG_{}'.format(_lag)]\n",
    "    # Realized Volatility\n",
    "    RV_scaled = pd.DataFrame(preprocessing.StandardScaler().fit_transform(_data[_data.columns[['RealizedVol' \\\n",
    "                      in col for col in _data.columns]]]), columns=_data[_data.columns[['RealizedVol' in \\\n",
    "                          col for col in _data.columns]]].columns)\n",
    "    # ADTV\n",
    "    ADTV_scaled = pd.DataFrame(preprocessing.StandardScaler().fit_transform(_data[_data.columns[['ADTV' \\\n",
    "                      in col for col in _data.columns]]]), columns=_data[_data.columns[['ADTV' in \\\n",
    "                          col for col in _data.columns]]].columns)\n",
    "    _signaldf = pd.concat([_signaldf, RV_scaled, ADTV_scaled], axis=1)\n",
    "    # Y\n",
    "    _signaldf['Actual_Y'] = _data['Actual_Y']\n",
    "    \n",
    "    return _signaldf\n",
    "\n",
    "def GetSellingPrice(_buysignal:int, _buyPx:float, _close1:float, _close2:float, _close3:float):\n",
    "    if _buysignal == 1:\n",
    "        if _close1 > _buyPx:\n",
    "            return _close1\n",
    "        elif _close2 > _buyPx:\n",
    "            return _close2\n",
    "        else:\n",
    "            return _close3\n",
    "    else:\n",
    "        return 0"
   ]
  },
  {
   "cell_type": "code",
   "execution_count": 261,
   "metadata": {},
   "outputs": [],
   "source": [
    "def vifcl(df:pd.DataFrame):\n",
    "    a = 0\n",
    "    i = 0\n",
    "    vif = pd.DataFrame()\n",
    "    vif[\"VIF Factor\"] = [variance_inflation_factor(df.values, i) for i in range(df.shape[1])]\n",
    "    vif[\"features\"] = df.columns\n",
    "    t = vif[\"VIF Factor\"].max()\n",
    "    for each in vif[\"VIF Factor\"]:\n",
    "        if each == t and each >= 10:\n",
    "            a = i\n",
    "        i += 1\n",
    "    vax = vif[\"VIF Factor\"].loc[a]\n",
    "    #print(vif.loc[a],\"\\n>10\")\n",
    "    return a,vax\n",
    "    \n",
    "def runVIF(df:pd.DataFrame):\n",
    "    # Raw train/test for VIF\n",
    "    _VIF_X = df.drop(['date', 'time', 'Actual_Y'], axis=1)\n",
    "    _VIF_y = df['Actual_Y']\n",
    "    # First Fit\n",
    "    vif = pd.DataFrame()\n",
    "    vif[\"VIF Factor\"] = [variance_inflation_factor(_VIF_X.values, i) for i in range(_VIF_X.shape[1])]\n",
    "    vif[\"features\"] = _VIF_X.columns\n",
    "    vif.round(1)\n",
    "    # Drop VIF>10\n",
    "    dropcindex=[]\n",
    "    while True:\n",
    "        vmax = 0\n",
    "        dropt = False\n",
    "        k,s = vifcl(_VIF_X)\n",
    "        if s >= 10:\n",
    "            dropt = True\n",
    "        if dropt == True:\n",
    "            #print(\"dropped\",_VIF_X.columns[k])\n",
    "            dropcindex.append(_VIF_X.columns[k])\n",
    "            _VIF_X = _VIF_X.drop([_VIF_X.columns[k]],axis=1)\n",
    "            vif = vif.drop([k])\n",
    "            _VIF_X = _VIF_X.reset_index(drop=True)\n",
    "            vif = vif.reset_index(drop=True)\n",
    "        else:\n",
    "            break\n",
    "    return dropcindex"
   ]
  },
  {
   "cell_type": "code",
   "execution_count": 267,
   "metadata": {
    "scrolled": true
   },
   "outputs": [
    {
     "name": "stderr",
     "output_type": "stream",
     "text": [
      "100%|████████████████████████████████████████████████████████████████████████████████████████████████████████████████████████████████████████████████████████████████████████████████████████████████████████| 3/3 [14:27<00:00, 289.32s/it]\n"
     ]
    }
   ],
   "source": [
    "# Param\n",
    "_dataDict = {}\n",
    "_scalpingWindow = 3\n",
    "_ccyList = ['BTC', 'ETH', 'SOL']\n",
    "# Backtesting\n",
    "for _ccy in tqdm(_ccyList):\n",
    "    _dataDict[_ccy] = {}\n",
    "    _dataDict[_ccy]['Train'], _dataDict[_ccy]['Test'] = Gen_backtesting_data(_ccy=_ccy, _scalpWindow=_scalpingWindow)\n",
    "    # Normalization\n",
    "    _dataDict[_ccy]['NormalizedTrain'], _dataDict[_ccy]['NormalizedTest'] = \\\n",
    "        Gen_backtesting_signal_cont(_data=_dataDict[_ccy]['Train']), Gen_backtesting_signal_cont(_data=_dataDict[_ccy]['Test'])\n",
    "    # VIF\n",
    "    _dataDict[_ccy]['VIFExcluded'] = runVIF(_dataDict[_ccy]['NormalizedTrain'])\n",
    "    _dataDict[_ccy]['VIFIncluded'] = _dataDict[_ccy]['NormalizedTrain'].columns \\\n",
    "        [~_dataDict[_ccy]['NormalizedTrain'].columns.isin(_dataDict[_ccy]['VIFExcluded'])]\n",
    "    _dataDict[_ccy]['NVIFTrain'] = _dataDict[_ccy]['NormalizedTrain'][_dataDict[_ccy]['VIFIncluded']]\n",
    "    _dataDict[_ccy]['NVIFTest'] = _dataDict[_ccy]['NormalizedTest'][_dataDict[_ccy]['VIFIncluded']]"
   ]
  },
  {
   "cell_type": "code",
   "execution_count": 276,
   "metadata": {
    "scrolled": true
   },
   "outputs": [
    {
     "name": "stdout",
     "output_type": "stream",
     "text": [
      "Optimization terminated successfully.\n",
      "         Current function value: 0.684671\n",
      "         Iterations 5\n",
      "Training Data\n"
     ]
    },
    {
     "data": {
      "text/html": [
       "<table class=\"simpletable\">\n",
       "<caption>Logit Regression Results</caption>\n",
       "<tr>\n",
       "  <th>Dep. Variable:</th>       <td>Actual_Y</td>     <th>  No. Observations:  </th>   <td>435327</td>   \n",
       "</tr>\n",
       "<tr>\n",
       "  <th>Model:</th>                 <td>Logit</td>      <th>  Df Residuals:      </th>   <td>435311</td>   \n",
       "</tr>\n",
       "<tr>\n",
       "  <th>Method:</th>                 <td>MLE</td>       <th>  Df Model:          </th>   <td>    15</td>   \n",
       "</tr>\n",
       "<tr>\n",
       "  <th>Date:</th>            <td>Wed, 08 Dec 2021</td> <th>  Pseudo R-squ.:     </th>   <td>0.01044</td>  \n",
       "</tr>\n",
       "<tr>\n",
       "  <th>Time:</th>                <td>02:56:35</td>     <th>  Log-Likelihood:    </th> <td>-2.9806e+05</td>\n",
       "</tr>\n",
       "<tr>\n",
       "  <th>converged:</th>             <td>True</td>       <th>  LL-Null:           </th> <td>-3.0120e+05</td>\n",
       "</tr>\n",
       "<tr>\n",
       "  <th>Covariance Type:</th>     <td>nonrobust</td>    <th>  LLR p-value:       </th>   <td> 0.000</td>   \n",
       "</tr>\n",
       "</table>\n",
       "<table class=\"simpletable\">\n",
       "<tr>\n",
       "             <td></td>               <th>coef</th>     <th>std err</th>      <th>z</th>      <th>P>|z|</th>  <th>[0.025</th>    <th>0.975]</th>  \n",
       "</tr>\n",
       "<tr>\n",
       "  <th>Return_LAG_1</th>           <td>   14.9423</td> <td>    3.380</td> <td>    4.421</td> <td> 0.000</td> <td>    8.318</td> <td>   21.566</td>\n",
       "</tr>\n",
       "<tr>\n",
       "  <th>Return_LAG_2</th>           <td>  -16.8485</td> <td>    3.377</td> <td>   -4.989</td> <td> 0.000</td> <td>  -23.468</td> <td>  -10.229</td>\n",
       "</tr>\n",
       "<tr>\n",
       "  <th>Return_LAG_3</th>           <td>    2.1043</td> <td>    3.375</td> <td>    0.624</td> <td> 0.533</td> <td>   -4.510</td> <td>    8.719</td>\n",
       "</tr>\n",
       "<tr>\n",
       "  <th>Return_LAG_4</th>           <td>    1.8596</td> <td>    3.365</td> <td>    0.553</td> <td> 0.581</td> <td>   -4.736</td> <td>    8.456</td>\n",
       "</tr>\n",
       "<tr>\n",
       "  <th>Return_LAG_5</th>           <td>    9.6825</td> <td>    2.868</td> <td>    3.376</td> <td> 0.001</td> <td>    4.061</td> <td>   15.304</td>\n",
       "</tr>\n",
       "<tr>\n",
       "  <th>Return_LAG_7</th>           <td>  -27.6375</td> <td>    1.854</td> <td>  -14.905</td> <td> 0.000</td> <td>  -31.272</td> <td>  -24.003</td>\n",
       "</tr>\n",
       "<tr>\n",
       "  <th>Return_LAG_14</th>          <td>    5.1562</td> <td>    1.097</td> <td>    4.701</td> <td> 0.000</td> <td>    3.006</td> <td>    7.306</td>\n",
       "</tr>\n",
       "<tr>\n",
       "  <th>Return_LAG_28</th>          <td>  -17.8182</td> <td>    0.652</td> <td>  -27.326</td> <td> 0.000</td> <td>  -19.096</td> <td>  -16.540</td>\n",
       "</tr>\n",
       "<tr>\n",
       "  <th>RealizedVol_Window_15</th>  <td>    0.1098</td> <td>    0.008</td> <td>   14.511</td> <td> 0.000</td> <td>    0.095</td> <td>    0.125</td>\n",
       "</tr>\n",
       "<tr>\n",
       "  <th>RealizedVol_Window_180</th> <td>    0.0558</td> <td>    0.008</td> <td>    6.666</td> <td> 0.000</td> <td>    0.039</td> <td>    0.072</td>\n",
       "</tr>\n",
       "<tr>\n",
       "  <th>RealizedVol_Window_720</th> <td>    0.0029</td> <td>    0.009</td> <td>    0.335</td> <td> 0.738</td> <td>   -0.014</td> <td>    0.020</td>\n",
       "</tr>\n",
       "<tr>\n",
       "  <th>ADTV_3</th>                 <td>    0.0351</td> <td>    0.006</td> <td>    6.285</td> <td> 0.000</td> <td>    0.024</td> <td>    0.046</td>\n",
       "</tr>\n",
       "<tr>\n",
       "  <th>ADTV_15</th>                <td>   -0.0228</td> <td>    0.009</td> <td>   -2.611</td> <td> 0.009</td> <td>   -0.040</td> <td>   -0.006</td>\n",
       "</tr>\n",
       "<tr>\n",
       "  <th>ADTV_60</th>                <td>    0.0277</td> <td>    0.007</td> <td>    3.730</td> <td> 0.000</td> <td>    0.013</td> <td>    0.042</td>\n",
       "</tr>\n",
       "<tr>\n",
       "  <th>ADTV_360</th>               <td>   -0.0133</td> <td>    0.007</td> <td>   -1.860</td> <td> 0.063</td> <td>   -0.027</td> <td>    0.001</td>\n",
       "</tr>\n",
       "<tr>\n",
       "  <th>ADTV_1440</th>              <td>    0.0777</td> <td>    0.007</td> <td>   11.684</td> <td> 0.000</td> <td>    0.065</td> <td>    0.091</td>\n",
       "</tr>\n",
       "</table>"
      ],
      "text/plain": [
       "<class 'statsmodels.iolib.summary.Summary'>\n",
       "\"\"\"\n",
       "                           Logit Regression Results                           \n",
       "==============================================================================\n",
       "Dep. Variable:               Actual_Y   No. Observations:               435327\n",
       "Model:                          Logit   Df Residuals:                   435311\n",
       "Method:                           MLE   Df Model:                           15\n",
       "Date:                Wed, 08 Dec 2021   Pseudo R-squ.:                 0.01044\n",
       "Time:                        02:56:35   Log-Likelihood:            -2.9806e+05\n",
       "converged:                       True   LL-Null:                   -3.0120e+05\n",
       "Covariance Type:            nonrobust   LLR p-value:                     0.000\n",
       "==========================================================================================\n",
       "                             coef    std err          z      P>|z|      [0.025      0.975]\n",
       "------------------------------------------------------------------------------------------\n",
       "Return_LAG_1              14.9423      3.380      4.421      0.000       8.318      21.566\n",
       "Return_LAG_2             -16.8485      3.377     -4.989      0.000     -23.468     -10.229\n",
       "Return_LAG_3               2.1043      3.375      0.624      0.533      -4.510       8.719\n",
       "Return_LAG_4               1.8596      3.365      0.553      0.581      -4.736       8.456\n",
       "Return_LAG_5               9.6825      2.868      3.376      0.001       4.061      15.304\n",
       "Return_LAG_7             -27.6375      1.854    -14.905      0.000     -31.272     -24.003\n",
       "Return_LAG_14              5.1562      1.097      4.701      0.000       3.006       7.306\n",
       "Return_LAG_28            -17.8182      0.652    -27.326      0.000     -19.096     -16.540\n",
       "RealizedVol_Window_15      0.1098      0.008     14.511      0.000       0.095       0.125\n",
       "RealizedVol_Window_180     0.0558      0.008      6.666      0.000       0.039       0.072\n",
       "RealizedVol_Window_720     0.0029      0.009      0.335      0.738      -0.014       0.020\n",
       "ADTV_3                     0.0351      0.006      6.285      0.000       0.024       0.046\n",
       "ADTV_15                   -0.0228      0.009     -2.611      0.009      -0.040      -0.006\n",
       "ADTV_60                    0.0277      0.007      3.730      0.000       0.013       0.042\n",
       "ADTV_360                  -0.0133      0.007     -1.860      0.063      -0.027       0.001\n",
       "ADTV_1440                  0.0777      0.007     11.684      0.000       0.065       0.091\n",
       "==========================================================================================\n",
       "\"\"\""
      ]
     },
     "metadata": {},
     "output_type": "display_data"
    },
    {
     "data": {
      "text/plain": [
       "array([[145865,  60907],\n",
       "       [133934,  94621]], dtype=int64)"
      ]
     },
     "metadata": {},
     "output_type": "display_data"
    },
    {
     "name": "stdout",
     "output_type": "stream",
     "text": [
      "              precision    recall  f1-score   support\n",
      "\n",
      "           0       0.52      0.71      0.60    206772\n",
      "           1       0.61      0.41      0.49    228555\n",
      "\n",
      "    accuracy                           0.55    435327\n",
      "   macro avg       0.56      0.56      0.55    435327\n",
      "weighted avg       0.57      0.55      0.54    435327\n",
      "\n",
      "Testing Data\n"
     ]
    },
    {
     "data": {
      "text/plain": [
       "array([[10639,  7285],\n",
       "       [15352,  9924]], dtype=int64)"
      ]
     },
     "metadata": {},
     "output_type": "display_data"
    },
    {
     "name": "stdout",
     "output_type": "stream",
     "text": [
      "              precision    recall  f1-score   support\n",
      "\n",
      "           0       0.41      0.59      0.48     17924\n",
      "           1       0.58      0.39      0.47     25276\n",
      "\n",
      "    accuracy                           0.48     43200\n",
      "   macro avg       0.49      0.49      0.48     43200\n",
      "weighted avg       0.51      0.48      0.47     43200\n",
      "\n"
     ]
    }
   ],
   "source": [
    "# LOGI\n",
    "# Post VIF fit\n",
    "_tarCcy = 'BTC'\n",
    "_trainX = _dataDict[_tarCcy]['NVIFTrain'].drop(['date', 'time', 'Actual_Y'], axis=1)\n",
    "_trainy = _dataDict[_tarCcy]['NVIFTrain']['Actual_Y']\n",
    "_testX = _dataDict[_tarCcy]['NVIFTest'].drop(['date', 'time', 'Actual_Y'], axis=1)\n",
    "_testy = _dataDict[_tarCcy]['NVIFTest']['Actual_Y']\n",
    "# Constant\n",
    "#_trainX = sm.add_constant(_trainX)\n",
    "#_testX = sm.add_constant(_testX)\n",
    "model = sm.Logit(_trainy, _trainX)\n",
    "logi = model.fit(solver='lbfgs', max_iter=1000, C=1e9)\n",
    "print('Training Data')\n",
    "display(logi.summary())\n",
    "display(confusion_matrix(_trainy, (logi.predict(_trainX) >= 0.5).astype(int)))\n",
    "print(classification_report(_trainy, (logi.predict(_trainX) >= 0.5).astype(int)))\n",
    "print('Testing Data')\n",
    "display(confusion_matrix(_testy, (logi.predict(_testX) >= 0.5).astype(int)))\n",
    "print(classification_report(_testy, (logi.predict(_testX) >= 0.5).astype(int)))"
   ]
  },
  {
   "cell_type": "code",
   "execution_count": 277,
   "metadata": {
    "scrolled": true
   },
   "outputs": [
    {
     "name": "stdout",
     "output_type": "stream",
     "text": [
      "Training Data\n"
     ]
    },
    {
     "data": {
      "text/plain": [
       "array([[ 93420, 113352],\n",
       "       [ 72301, 156254]], dtype=int64)"
      ]
     },
     "metadata": {},
     "output_type": "display_data"
    },
    {
     "name": "stdout",
     "output_type": "stream",
     "text": [
      "              precision    recall  f1-score   support\n",
      "\n",
      "           0       0.56      0.45      0.50    206772\n",
      "           1       0.58      0.68      0.63    228555\n",
      "\n",
      "    accuracy                           0.57    435327\n",
      "   macro avg       0.57      0.57      0.56    435327\n",
      "weighted avg       0.57      0.57      0.57    435327\n",
      "\n"
     ]
    },
    {
     "data": {
      "image/png": "[encoded data removed]",
      "text/plain": [
       "<Figure size 720x720 with 1 Axes>"
      ]
     },
     "metadata": {
      "needs_background": "light"
     },
     "output_type": "display_data"
    },
    {
     "name": "stdout",
     "output_type": "stream",
     "text": [
      "Testing Data\n"
     ]
    },
    {
     "data": {
      "text/plain": [
       "array([[ 6836, 11088],\n",
       "       [10072, 15204]], dtype=int64)"
      ]
     },
     "metadata": {},
     "output_type": "display_data"
    },
    {
     "name": "stdout",
     "output_type": "stream",
     "text": [
      "              precision    recall  f1-score   support\n",
      "\n",
      "           0       0.40      0.38      0.39     17924\n",
      "           1       0.58      0.60      0.59     25276\n",
      "\n",
      "    accuracy                           0.51     43200\n",
      "   macro avg       0.49      0.49      0.49     43200\n",
      "weighted avg       0.51      0.51      0.51     43200\n",
      "\n"
     ]
    }
   ],
   "source": [
    "# XGBoost\n",
    "# Post VIF fit\n",
    "_trainX = _dataDict[_tarCcy]['NVIFTrain'].drop(['date', 'time', 'Actual_Y'], axis=1)\n",
    "_trainy = _dataDict[_tarCcy]['NVIFTrain']['Actual_Y']\n",
    "_testX = _dataDict[_tarCcy]['NVIFTest'].drop(['date', 'time', 'Actual_Y'], axis=1)\n",
    "_testy = _dataDict[_tarCcy]['NVIFTest']['Actual_Y']\n",
    "fix_params = {'objective': 'binary:logistic', 'eval_metric':'mlogloss', \\\n",
    "              'colsample_bytree': 0.35, 'eta': 0.05, 'max_depth': 5, \\\n",
    "              'n_estimators': 100, 'subsample': 0.45, 'use_label_encoder':False}\n",
    "xg_reg = xgb.XGBClassifier(**fix_params)\n",
    "xg_reg.fit(_trainX, _trainy)\n",
    "print('Training Data')\n",
    "display(confusion_matrix(_trainy, xg_reg.predict(_trainX)))\n",
    "print(classification_report(_trainy, xg_reg.predict(_trainX)))\n",
    "fig, ax = plt.subplots(figsize=(10,10))\n",
    "xgb.plot_importance(xg_reg, max_num_features=10, height=0.5, ax=ax,importance_type='weight')\n",
    "plt.show()\n",
    "print('Testing Data')\n",
    "display(confusion_matrix(_testy, xg_reg.predict(_testX)))\n",
    "print(classification_report(_testy, xg_reg.predict(_testX)))"
   ]
  },
  {
   "cell_type": "code",
   "execution_count": 278,
   "metadata": {},
   "outputs": [],
   "source": [
    "# PnL\n",
    "_initialNotional = 100000\n",
    "_executionCost = 0.005\n",
    "_predicted = pd.Series(xg_reg.predict(_testX), name='Buy_Signal')\n",
    "_close = formatBacktestdata(_tarCcy)[(_data.date >= datetime.date(2021, 11, 1)) & \\\n",
    "            (_data.date <= datetime.date(2021, 12, 1))].reset_index(drop=True).Close\n",
    "Plotdf = pd.concat([_dataDict[_tarCcy]['Test'].date, _dataDict[_tarCcy]['Test'].time, \\\n",
    "                    _dataDict[_tarCcy]['Test']['Close'], _predicted, _dataDict[_tarCcy]['Test']['Actual_Y']], axis=1)\n",
    "# Buy Price\n",
    "Plotdf['BuyPx'] = Plotdf.Close * Plotdf.Buy_Signal\n",
    "for i in range(1, _scalpingWindow+1):\n",
    "    Plotdf['Close_t+{}'.format(i)] = _close.shift(-i)[:len(Plotdf)]\n",
    "# Selling Price\n",
    "Plotdf['SellPx'] = Plotdf[['Buy_Signal', 'BuyPx', 'Close_t+1', 'Close_t+2', 'Close_t+3']].apply(lambda x: \n",
    "                        GetSellingPrice(_buysignal=x[0], _buyPx=x[1], _close1=x[2], _close2=x[3], _close3=x[4]), axis=1)\n",
    "# Return\n",
    "Plotdf['Implied Return (%)'] = (Plotdf['SellPx']/Plotdf['BuyPx']-1).fillna(0) * 100\n",
    "Plotdf['MTM PnL (USD)'] = Plotdf['Implied Return (%)']/100 * _initialNotional\n",
    "Plotdf['Realized PnL (USD)'] = Plotdf['Buy_Signal'] * (Plotdf['MTM PnL (USD)'] - abs(Plotdf['MTM PnL (USD)'] * _executionCost))\n",
    "Plotdf['Realized Return (%)'] = Plotdf['Realized PnL (USD)']/_initialNotional * 100\n",
    "Plotdf['CumReturn'] = (Plotdf['Realized Return (%)']/100+1).cumprod()-1"
   ]
  },
  {
   "cell_type": "code",
   "execution_count": 279,
   "metadata": {
    "scrolled": true
   },
   "outputs": [
    {
     "data": {
      "text/html": [
       "<div>\n",
       "<style scoped>\n",
       "    .dataframe tbody tr th:only-of-type {\n",
       "        vertical-align: middle;\n",
       "    }\n",
       "\n",
       "    .dataframe tbody tr th {\n",
       "        vertical-align: top;\n",
       "    }\n",
       "\n",
       "    .dataframe thead th {\n",
       "        text-align: right;\n",
       "    }\n",
       "</style>\n",
       "<table border=\"1\" class=\"dataframe\">\n",
       "  <thead>\n",
       "    <tr style=\"text-align: right;\">\n",
       "      <th></th>\n",
       "      <th>date</th>\n",
       "      <th>time</th>\n",
       "      <th>Close</th>\n",
       "      <th>Buy_Signal</th>\n",
       "      <th>Actual_Y</th>\n",
       "      <th>BuyPx</th>\n",
       "      <th>Close_t+1</th>\n",
       "      <th>Close_t+2</th>\n",
       "      <th>Close_t+3</th>\n",
       "      <th>SellPx</th>\n",
       "      <th>Implied Return (%)</th>\n",
       "      <th>MTM PnL (USD)</th>\n",
       "      <th>Realized PnL (USD)</th>\n",
       "      <th>Realized Return (%)</th>\n",
       "      <th>CumReturn</th>\n",
       "    </tr>\n",
       "  </thead>\n",
       "  <tbody>\n",
       "    <tr>\n",
       "      <th>0</th>\n",
       "      <td>2021-11-01</td>\n",
       "      <td>00:00:00</td>\n",
       "      <td>60491.21</td>\n",
       "      <td>1</td>\n",
       "      <td>0</td>\n",
       "      <td>60491.21</td>\n",
       "      <td>60509.26</td>\n",
       "      <td>60530.81</td>\n",
       "      <td>60454.26</td>\n",
       "      <td>60509.26</td>\n",
       "      <td>0.029839</td>\n",
       "      <td>29.839046</td>\n",
       "      <td>29.689851</td>\n",
       "      <td>0.029690</td>\n",
       "      <td>0.000297</td>\n",
       "    </tr>\n",
       "    <tr>\n",
       "      <th>1</th>\n",
       "      <td>2021-11-01</td>\n",
       "      <td>00:01:00</td>\n",
       "      <td>60509.26</td>\n",
       "      <td>1</td>\n",
       "      <td>0</td>\n",
       "      <td>60509.26</td>\n",
       "      <td>60530.81</td>\n",
       "      <td>60454.26</td>\n",
       "      <td>60521.41</td>\n",
       "      <td>60530.81</td>\n",
       "      <td>0.035614</td>\n",
       "      <td>35.614384</td>\n",
       "      <td>35.436312</td>\n",
       "      <td>0.035436</td>\n",
       "      <td>0.000651</td>\n",
       "    </tr>\n",
       "    <tr>\n",
       "      <th>2</th>\n",
       "      <td>2021-11-01</td>\n",
       "      <td>00:02:00</td>\n",
       "      <td>60530.81</td>\n",
       "      <td>1</td>\n",
       "      <td>1</td>\n",
       "      <td>60530.81</td>\n",
       "      <td>60454.26</td>\n",
       "      <td>60521.41</td>\n",
       "      <td>60469.29</td>\n",
       "      <td>60469.29</td>\n",
       "      <td>-0.101634</td>\n",
       "      <td>-101.634193</td>\n",
       "      <td>-102.142364</td>\n",
       "      <td>-0.102142</td>\n",
       "      <td>-0.000371</td>\n",
       "    </tr>\n",
       "    <tr>\n",
       "      <th>3</th>\n",
       "      <td>2021-11-01</td>\n",
       "      <td>00:03:00</td>\n",
       "      <td>60454.26</td>\n",
       "      <td>1</td>\n",
       "      <td>1</td>\n",
       "      <td>60454.26</td>\n",
       "      <td>60521.41</td>\n",
       "      <td>60469.29</td>\n",
       "      <td>60487.04</td>\n",
       "      <td>60521.41</td>\n",
       "      <td>0.111076</td>\n",
       "      <td>111.075712</td>\n",
       "      <td>110.520334</td>\n",
       "      <td>0.110520</td>\n",
       "      <td>0.000734</td>\n",
       "    </tr>\n",
       "    <tr>\n",
       "      <th>4</th>\n",
       "      <td>2021-11-01</td>\n",
       "      <td>00:04:00</td>\n",
       "      <td>60521.41</td>\n",
       "      <td>1</td>\n",
       "      <td>1</td>\n",
       "      <td>60521.41</td>\n",
       "      <td>60469.29</td>\n",
       "      <td>60487.04</td>\n",
       "      <td>60469.86</td>\n",
       "      <td>60469.86</td>\n",
       "      <td>-0.085176</td>\n",
       "      <td>-85.176469</td>\n",
       "      <td>-85.602351</td>\n",
       "      <td>-0.085602</td>\n",
       "      <td>-0.000123</td>\n",
       "    </tr>\n",
       "    <tr>\n",
       "      <th>...</th>\n",
       "      <td>...</td>\n",
       "      <td>...</td>\n",
       "      <td>...</td>\n",
       "      <td>...</td>\n",
       "      <td>...</td>\n",
       "      <td>...</td>\n",
       "      <td>...</td>\n",
       "      <td>...</td>\n",
       "      <td>...</td>\n",
       "      <td>...</td>\n",
       "      <td>...</td>\n",
       "      <td>...</td>\n",
       "      <td>...</td>\n",
       "      <td>...</td>\n",
       "      <td>...</td>\n",
       "    </tr>\n",
       "    <tr>\n",
       "      <th>43195</th>\n",
       "      <td>2021-11-30</td>\n",
       "      <td>23:55:00</td>\n",
       "      <td>57627.15</td>\n",
       "      <td>1</td>\n",
       "      <td>0</td>\n",
       "      <td>57627.15</td>\n",
       "      <td>57697.33</td>\n",
       "      <td>57764.45</td>\n",
       "      <td>57626.21</td>\n",
       "      <td>57697.33</td>\n",
       "      <td>0.121783</td>\n",
       "      <td>121.782875</td>\n",
       "      <td>121.173961</td>\n",
       "      <td>0.121174</td>\n",
       "      <td>0.139443</td>\n",
       "    </tr>\n",
       "    <tr>\n",
       "      <th>43196</th>\n",
       "      <td>2021-11-30</td>\n",
       "      <td>23:56:00</td>\n",
       "      <td>57697.33</td>\n",
       "      <td>1</td>\n",
       "      <td>0</td>\n",
       "      <td>57697.33</td>\n",
       "      <td>57764.45</td>\n",
       "      <td>57626.21</td>\n",
       "      <td>57238.84</td>\n",
       "      <td>57764.45</td>\n",
       "      <td>0.116331</td>\n",
       "      <td>116.331206</td>\n",
       "      <td>115.749550</td>\n",
       "      <td>0.115750</td>\n",
       "      <td>0.140762</td>\n",
       "    </tr>\n",
       "    <tr>\n",
       "      <th>43197</th>\n",
       "      <td>2021-11-30</td>\n",
       "      <td>23:57:00</td>\n",
       "      <td>57764.45</td>\n",
       "      <td>1</td>\n",
       "      <td>0</td>\n",
       "      <td>57764.45</td>\n",
       "      <td>57626.21</td>\n",
       "      <td>57238.84</td>\n",
       "      <td>57408.55</td>\n",
       "      <td>57408.55</td>\n",
       "      <td>-0.616123</td>\n",
       "      <td>-616.122892</td>\n",
       "      <td>-619.203507</td>\n",
       "      <td>-0.619204</td>\n",
       "      <td>0.133699</td>\n",
       "    </tr>\n",
       "    <tr>\n",
       "      <th>43198</th>\n",
       "      <td>2021-11-30</td>\n",
       "      <td>23:58:00</td>\n",
       "      <td>57626.21</td>\n",
       "      <td>1</td>\n",
       "      <td>1</td>\n",
       "      <td>57626.21</td>\n",
       "      <td>57238.84</td>\n",
       "      <td>57408.55</td>\n",
       "      <td>57253.00</td>\n",
       "      <td>57253.00</td>\n",
       "      <td>-0.647639</td>\n",
       "      <td>-647.639329</td>\n",
       "      <td>-650.877526</td>\n",
       "      <td>-0.650878</td>\n",
       "      <td>0.126320</td>\n",
       "    </tr>\n",
       "    <tr>\n",
       "      <th>43199</th>\n",
       "      <td>2021-11-30</td>\n",
       "      <td>23:59:00</td>\n",
       "      <td>57238.84</td>\n",
       "      <td>1</td>\n",
       "      <td>1</td>\n",
       "      <td>57238.84</td>\n",
       "      <td>57408.55</td>\n",
       "      <td>57253.00</td>\n",
       "      <td>57015.11</td>\n",
       "      <td>57408.55</td>\n",
       "      <td>0.296494</td>\n",
       "      <td>296.494478</td>\n",
       "      <td>295.012006</td>\n",
       "      <td>0.295012</td>\n",
       "      <td>0.129642</td>\n",
       "    </tr>\n",
       "  </tbody>\n",
       "</table>\n",
       "<p>43200 rows × 15 columns</p>\n",
       "</div>"
      ],
      "text/plain": [
       "             date      time     Close  Buy_Signal  Actual_Y     BuyPx  \\\n",
       "0      2021-11-01  00:00:00  60491.21           1         0  60491.21   \n",
       "1      2021-11-01  00:01:00  60509.26           1         0  60509.26   \n",
       "2      2021-11-01  00:02:00  60530.81           1         1  60530.81   \n",
       "3      2021-11-01  00:03:00  60454.26           1         1  60454.26   \n",
       "4      2021-11-01  00:04:00  60521.41           1         1  60521.41   \n",
       "...           ...       ...       ...         ...       ...       ...   \n",
       "43195  2021-11-30  23:55:00  57627.15           1         0  57627.15   \n",
       "43196  2021-11-30  23:56:00  57697.33           1         0  57697.33   \n",
       "43197  2021-11-30  23:57:00  57764.45           1         0  57764.45   \n",
       "43198  2021-11-30  23:58:00  57626.21           1         1  57626.21   \n",
       "43199  2021-11-30  23:59:00  57238.84           1         1  57238.84   \n",
       "\n",
       "       Close_t+1  Close_t+2  Close_t+3    SellPx  Implied Return (%)  \\\n",
       "0       60509.26   60530.81   60454.26  60509.26            0.029839   \n",
       "1       60530.81   60454.26   60521.41  60530.81            0.035614   \n",
       "2       60454.26   60521.41   60469.29  60469.29           -0.101634   \n",
       "3       60521.41   60469.29   60487.04  60521.41            0.111076   \n",
       "4       60469.29   60487.04   60469.86  60469.86           -0.085176   \n",
       "...          ...        ...        ...       ...                 ...   \n",
       "43195   57697.33   57764.45   57626.21  57697.33            0.121783   \n",
       "43196   57764.45   57626.21   57238.84  57764.45            0.116331   \n",
       "43197   57626.21   57238.84   57408.55  57408.55           -0.616123   \n",
       "43198   57238.84   57408.55   57253.00  57253.00           -0.647639   \n",
       "43199   57408.55   57253.00   57015.11  57408.55            0.296494   \n",
       "\n",
       "       MTM PnL (USD)  Realized PnL (USD)  Realized Return (%)  CumReturn  \n",
       "0          29.839046           29.689851             0.029690   0.000297  \n",
       "1          35.614384           35.436312             0.035436   0.000651  \n",
       "2        -101.634193         -102.142364            -0.102142  -0.000371  \n",
       "3         111.075712          110.520334             0.110520   0.000734  \n",
       "4         -85.176469          -85.602351            -0.085602  -0.000123  \n",
       "...              ...                 ...                  ...        ...  \n",
       "43195     121.782875          121.173961             0.121174   0.139443  \n",
       "43196     116.331206          115.749550             0.115750   0.140762  \n",
       "43197    -616.122892         -619.203507            -0.619204   0.133699  \n",
       "43198    -647.639329         -650.877526            -0.650878   0.126320  \n",
       "43199     296.494478          295.012006             0.295012   0.129642  \n",
       "\n",
       "[43200 rows x 15 columns]"
      ]
     },
     "execution_count": 279,
     "metadata": {},
     "output_type": "execute_result"
    }
   ],
   "source": [
    "Plotdf"
   ]
  },
  {
   "cell_type": "code",
   "execution_count": null,
   "metadata": {},
   "outputs": [],
   "source": []
  },
  {
   "cell_type": "code",
   "execution_count": 215,
   "metadata": {},
   "outputs": [],
   "source": [
    "_data = formatBacktestdata('SOL')\n",
    "_closelag = (_data.Close.shift(1)/_data.Close)-1\n",
    "_execCost = abs(_closelag[_closelag < 0].mean())"
   ]
  },
  {
   "cell_type": "code",
   "execution_count": 216,
   "metadata": {},
   "outputs": [
    {
     "data": {
      "text/plain": [
       "0.001660569674245275"
      ]
     },
     "execution_count": 216,
     "metadata": {},
     "output_type": "execute_result"
    }
   ],
   "source": [
    "_execCost"
   ]
  },
  {
   "cell_type": "code",
   "execution_count": 218,
   "metadata": {},
   "outputs": [
    {
     "data": {
      "text/plain": [
       "0.0025627128248379314"
      ]
     },
     "execution_count": 218,
     "metadata": {},
     "output_type": "execute_result"
    }
   ],
   "source": [
    "_closelag.mean()+_closelag.std()"
   ]
  },
  {
   "cell_type": "code",
   "execution_count": 225,
   "metadata": {},
   "outputs": [
    {
     "data": {
      "text/plain": [
       "0.0016572464239944656"
      ]
     },
     "execution_count": 225,
     "metadata": {},
     "output_type": "execute_result"
    }
   ],
   "source": [
    "abs(_closelag[_closelag > 0].mean())"
   ]
  },
  {
   "cell_type": "code",
   "execution_count": 224,
   "metadata": {},
   "outputs": [
    {
     "data": {
      "text/plain": [
       "0.00166"
      ]
     },
     "execution_count": 224,
     "metadata": {},
     "output_type": "execute_result"
    }
   ],
   "source": [
    "np.floor(0.001660569674245275*100000)/100000"
   ]
  },
  {
   "cell_type": "code",
   "execution_count": null,
   "metadata": {},
   "outputs": [],
   "source": []
  }
 ],
 "metadata": {
  "kernelspec": {
   "display_name": "Python 3",
   "language": "python",
   "name": "python3"
  },
  "language_info": {
   "codemirror_mode": {
    "name": "ipython",
    "version": 3
   },
   "file_extension": ".py",
   "mimetype": "text/x-python",
   "name": "python",
   "nbconvert_exporter": "python",
   "pygments_lexer": "ipython3",
   "version": "3.8.5"
  }
 },
 "nbformat": 4,
 "nbformat_minor": 4
}
